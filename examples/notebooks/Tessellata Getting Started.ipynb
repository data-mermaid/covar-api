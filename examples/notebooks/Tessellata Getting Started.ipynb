{
 "cells": [
  {
   "cell_type": "markdown",
   "metadata": {},
   "source": [
    "# Tessellata: Getting Started\n",
    "\n",
    "Tessellata is an aggregation and distribution system for oceanic data. It is a collaborative effort between Sparkgeo and WCS.\n",
    "\n",
    "This guide is an example that requests and combines public data from Mermaid and Tessellata, and plots the output.\n",
    "\n",
    "To execute a cell, press Shift + Enter."
   ]
  },
  {
   "cell_type": "markdown",
   "metadata": {},
   "source": [
    "## Import dependencies"
   ]
  },
  {
   "cell_type": "code",
   "execution_count": null,
   "metadata": {},
   "outputs": [],
   "source": [
    "import json\n",
    "import requests\n",
    "import pandas as pd\n",
    "import matplotlib.pyplot as plt\n",
    "from ipyleaflet import Map, Marker, MarkerCluster, TileLayer"
   ]
  },
  {
   "cell_type": "markdown",
   "metadata": {},
   "source": [
    "## Set up links to endpoints"
   ]
  },
  {
   "cell_type": "code",
   "execution_count": null,
   "metadata": {},
   "outputs": [],
   "source": [
    "mermaid_api = \"https://dev-api.datamermaid.org/v1\"\n",
    "titiler_endpoint = \"https://9rhnl96o03.execute-api.us-east-1.amazonaws.com\"\n",
    "stac_endpoint = \"http://stac/endpoint\"\n",
    "tessellata_api = \"https://tessellata/endpoint\""
   ]
  },
  {
   "cell_type": "markdown",
   "metadata": {},
   "source": [
    "## Create a basic function for making requests"
   ]
  },
  {
   "cell_type": "code",
   "execution_count": null,
   "metadata": {},
   "outputs": [],
   "source": [
    "def send_request(api, endpoint, params):\n",
    "    response = requests.get(f\"{api}/{endpoint}\", params=params)\n",
    "    print(f\"REQUEST URL: {response.request.path_url}\")\n",
    "    return response"
   ]
  },
  {
   "cell_type": "markdown",
   "metadata": {},
   "source": [
    "## Create a list of Mermaid projects that have a public sharing policy"
   ]
  },
  {
   "cell_type": "code",
   "execution_count": null,
   "metadata": {},
   "outputs": [],
   "source": [
    "policy = \"data_policy_beltfish\"\n",
    "\n",
    "endpoint = \"projects\"\n",
    "\n",
    "params = {\n",
    "    \"limit\": \"1000\",\n",
    "    \"showall\": True,\n",
    "    \"status\": \"90\",\n",
    "    policy: \"50\"\n",
    "}\n",
    "response = send_request(mermaid_api, endpoint, params)\n",
    "\n",
    "results = response.json()[\"results\"]\n",
    "projects = []\n",
    "for result in results:\n",
    "    if result[\"num_sites\"] > 0:\n",
    "        projects.append(result[\"name\"])\n",
    "        \n",
    "print(projects)"
   ]
  },
  {
   "cell_type": "markdown",
   "metadata": {},
   "source": [
    "## Collect summary site data from Mermaid"
   ]
  },
  {
   "cell_type": "code",
   "execution_count": null,
   "metadata": {},
   "outputs": [],
   "source": [
    "endpoint = \"summarysites\"\n",
    "\n",
    "summary_results = []\n",
    "for project in projects:\n",
    "    params = {\n",
    "        \"page\": 1,\n",
    "        \"limit\": 1000,\n",
    "        \"project_name\": project\n",
    "    }\n",
    "    response = send_request(mermaid_api, endpoint, params)\n",
    "    response_json = response.json()\n",
    "\n",
    "    if response_json[\"count\"] > 0:\n",
    "        summary_results.append(response_json[\"results\"])"
   ]
  },
  {
   "cell_type": "markdown",
   "metadata": {},
   "source": [
    "## Parse the results into a organized structure"
   ]
  },
  {
   "cell_type": "code",
   "execution_count": null,
   "metadata": {},
   "outputs": [],
   "source": [
    "summary_stats = []\n",
    "protocol = \"beltfish\"\n",
    "variable = \"biomass_kgha_avg\"\n",
    "\n",
    "for result in summary_results:\n",
    "    for site in result:\n",
    "        summary_stats.append([\n",
    "            site[\"project_name\"],\n",
    "            site[\"site_name\"],\n",
    "            site[\"latitude\"],\n",
    "            site[\"longitude\"],\n",
    "            site[\"protocols\"].get(protocol, {}).get(variable)\n",
    "        ])\n",
    "            \n",
    "df = pd.DataFrame(summary_stats, columns=['project_name', 'site_name', 'latitude', 'longitude', 'value'])"
   ]
  },
  {
   "cell_type": "code",
   "execution_count": null,
   "metadata": {},
   "outputs": [],
   "source": [
    "df"
   ]
  },
  {
   "cell_type": "markdown",
   "metadata": {},
   "source": [
    "## Map the projects"
   ]
  },
  {
   "cell_type": "code",
   "execution_count": null,
   "metadata": {},
   "outputs": [],
   "source": [
    "m = Map(center=(0,0), zoom=2)\n",
    "\n",
    "lats = df['latitude']\n",
    "lngs = df['longitude']\n",
    "site_names = df['site_name']\n",
    "sites = zip(list(lats), list(lngs), list(site_names))\n",
    "\n",
    "markers = []\n",
    "for site in sites:\n",
    "    marker = Marker(\n",
    "        location=(site[0], site[1]),\n",
    "        title=site[2]\n",
    "    )\n",
    "    markers.append(marker)\n",
    "\n",
    "layer_group = MarkerCluster(markers=markers)\n",
    "m.add_layer(layer_group);\n",
    "\n",
    "display(m)"
   ]
  },
  {
   "cell_type": "markdown",
   "metadata": {},
   "source": [
    "## Plot the distribution of our data"
   ]
  },
  {
   "cell_type": "code",
   "execution_count": null,
   "metadata": {},
   "outputs": [],
   "source": [
    "df['value'].plot.hist(bins=20)"
   ]
  },
  {
   "cell_type": "markdown",
   "metadata": {},
   "source": [
    "## Set up mock data"
   ]
  },
  {
   "cell_type": "code",
   "execution_count": null,
   "metadata": {},
   "outputs": [],
   "source": [
    "# mocked responses\n",
    "import random\n",
    "import numpy as np\n",
    "import uuid\n",
    "\n",
    "def make_mocked_response():\n",
    "    mocked_arr = np.array(np.random.randint([100,100]))\n",
    "    arr_min = np.min(mocked_arr)\n",
    "    arr_max = np.max(mocked_arr)\n",
    "    arr_mean = np.mean(mocked_arr)\n",
    "    arr_median = np.median(mocked_arr)\n",
    "    item_id = str(uuid.uuid4())\n",
    "    collection_id = \"fishing_pressure\"\n",
    "    \n",
    "    return {\n",
    "      \"numberMatched\": 20,\n",
    "      \"numberReturned\": 1,\n",
    "      \"type\": \"FeatureCollection\",\n",
    "      \"meta\": {\n",
    "        \"next\": f\"{stac_endpoint}/stac/search?page=2&limit=2&datetime=2018-12-29T00:00:00Z/2019-01-01T12:31:12Z&bbox0=-110.039063&bbox1=35.029996&bbox2=-85.957031&bbox3=45.95115&collections=sentinel-s2-l2a-cogs\",\n",
    "        \"previous\": None,\n",
    "        \"count\": 20,\n",
    "        \"limit\": 2\n",
    "      },\n",
    "      \"features\": [\n",
    "        {\n",
    "          \"stac_version\": \"1.0.0-beta.2\",\n",
    "          \"stac_extensions\": [\"eo\", \"view\", \"proj\"],\n",
    "          \"type\": \"Feature\",\n",
    "          \"id\": item_id,\n",
    "          \"bbox\": [\n",
    "            -95.62699663171666,\n",
    "            45.9364285112087,\n",
    "            -94.1732388249877,\n",
    "            46.94756452250618\n",
    "          ],\n",
    "          \"geometry\": {\n",
    "            \"type\": \"Polygon\",\n",
    "            \"coordinates\": [\n",
    "              [\n",
    "                [-95.57996245196377, 45.9364285112087],\n",
    "                [-95.62699663171666, 46.92355231990535],\n",
    "                [-94.1853024993796, 46.94756452250618],\n",
    "                [-94.1732388249877, 46.39298426493156],\n",
    "                [-94.3589266638512, 45.9596401482561],\n",
    "                [-94.35990594432792, 45.95746837950782],\n",
    "                [-95.57996245196377, 45.9364285112087]\n",
    "              ]\n",
    "            ]\n",
    "          },\n",
    "          \"properties\": {\n",
    "            \"created\": \"2020-08-30T09:09:30.921Z\",\n",
    "            \"updated\": \"2020-08-30T09:09:30.921Z\",\n",
    "            \"collection\": collection_id,\n",
    "            \"statistics\": {\n",
    "              \"min\": arr_min,\n",
    "              \"max\": arr_max,\n",
    "              \"mean\": arr_mean,\n",
    "              \"median\": arr_median,\n",
    "            }\n",
    "          },\n",
    "          \"collection\": collection_id,\n",
    "          \"links\": [\n",
    "            {\n",
    "              \"rel\": \"self\",\n",
    "              \"href\": f\"{stac_endpoint}/stac/collections/{collection_id}/items/{item_id}\"\n",
    "            },\n",
    "            {\n",
    "              \"rel\": \"canonical\",\n",
    "              \"href\": \"https://sentinel-cogs.s3.us-west-2.amazonaws.com/sentinel-s2-l2a-cogs/15/S/VS/2017/11/S2A_15SVS_20171110_1_L2A/S2A_15SVS_20171110_1_L2A.json\",\n",
    "              \"type\": \"application/json\"\n",
    "            },\n",
    "            {\n",
    "              \"title\": \"Source STAC Item\",\n",
    "              \"rel\": \"derived_from\",\n",
    "              \"href\": \"https://earth-search.aws.element84.com/v0/collections/sentinel-s2-l2a/items/S2A_15SVS_20171110_1_L2A\",\n",
    "              \"type\": \"application/json\"\n",
    "            },\n",
    "            {\n",
    "              \"rel\": \"parent\",\n",
    "              \"href\": f\"{stac_endpoint}/stac/collections/{collection_id}\"\n",
    "            },\n",
    "            {\n",
    "              \"rel\": \"collection\",\n",
    "              \"href\": f\"{stac_endpoint}/stac/collections/{collection_id}\"\n",
    "            },\n",
    "            {\n",
    "              \"rel\": \"root\",\n",
    "              \"href\": f\"{stac_endpoint}/stac/\"\n",
    "            },\n",
    "            {\n",
    "              \"rel\": \"numpy\",\n",
    "              \"href\": f\"{titiler_endpoint}/stac/tiles/{{z}}/{{x}}/{{y}}.npy?url={stac_endpoint}/stac/collections/{collection_id}/items/{item_id}\"\n",
    "            },\n",
    "            {\n",
    "              \"title\": \"tms\",\n",
    "              \"href\": f\"{titiler_endpoint}/stac/tiles/{{z}}/{{x}}/{{y}}.png?url=https://canada-spot-ortho.s3.amazonaws.com/canada_spot_orthoimages/canada_spot5_orthoimages/S5_2007/S5_13417_6725_20070828/S5_13417_6725_20070828.json&assets=B1\"\n",
    "            }\n",
    "          ],\n",
    "          \"assets\": {\n",
    "           \"B1\": {\n",
    "              \"title\": \"Band 1 (coastal)\",\n",
    "              \"type\": \"image/tiff; application=geotiff; profile=cloud-optimized\",\n",
    "              \"roles\": [\"data\"],\n",
    "              \"gsd\": 60,\n",
    "              \"eo:bands\": [\n",
    "                {\n",
    "                  \"name\": \"B01\",\n",
    "                  \"common_name\": \"coastal\",\n",
    "                  \"center_wavelength\": 0.4439,\n",
    "                  \"full_width_half_max\": 0.027\n",
    "                }\n",
    "              ],\n",
    "              \"href\": \"https://sentinel-cogs.s3.us-west-2.amazonaws.com/sentinel-s2-l2a-cogs/14/T/QS/2018/12/S2B_14TQS_20181229_0_L2A/B01.tif\",\n",
    "              \"proj:shape\": [1830, 1830],\n",
    "              \"proj:transform\": [\n",
    "                60.0,\n",
    "                0.0,\n",
    "                699960.0,\n",
    "                0.0,\n",
    "                -60.0,\n",
    "                5200020.0,\n",
    "                0.0,\n",
    "                0.0,\n",
    "                1.0\n",
    "              ]\n",
    "            }\n",
    "          }\n",
    "        }\n",
    "      ]\n",
    "    }\n",
    "\n"
   ]
  },
  {
   "cell_type": "markdown",
   "metadata": {},
   "source": [
    "## Request gravity statistics from Tessellata"
   ]
  },
  {
   "cell_type": "code",
   "execution_count": null,
   "metadata": {},
   "outputs": [],
   "source": [
    "df[\"min\"] = 0\n",
    "df[\"max\"] = 0\n",
    "df[\"mean\"] = 0\n",
    "df[\"median\"] = 0\n",
    "\n",
    "for index, row in df.iterrows():\n",
    "    body = {\n",
    "        \"intersects\": {\n",
    "            \"type\": \"Point\",\n",
    "            \"coordinates\": [row['longitude'], row['latitude']]\n",
    "          },\n",
    "        \"radius\": 20000,\n",
    "        \"datetime\": \"2018-10-01T00:00:00Z/2018-11-01T12:31:12Z\",\n",
    "        \"collections\": [\"fishing_pressure\"],\n",
    "        \"statistics\": [\"all\"]\n",
    "    }\n",
    "    response =  make_mocked_response()\n",
    "    \n",
    "    for stat in [\"min\", \"max\", \"mean\", \"median\"]:\n",
    "        df[stat][index] = response[\"features\"][0][\"properties\"][\"statistics\"][stat]"
   ]
  },
  {
   "cell_type": "code",
   "execution_count": null,
   "metadata": {},
   "outputs": [],
   "source": [
    "df"
   ]
  },
  {
   "cell_type": "markdown",
   "metadata": {},
   "source": [
    "## Plot biomass vs gravity"
   ]
  },
  {
   "cell_type": "code",
   "execution_count": null,
   "metadata": {},
   "outputs": [],
   "source": [
    "%matplotlib inline\n",
    "graph_df = df.rename(columns={'value': 'Biomass'})\n",
    "ax1 = graph_df.plot.scatter(\n",
    "    x='min',\n",
    "    y='Biomass',\n",
    "    c=graph_df.groupby('project_name').ngroup(),\n",
    "    colormap='viridis',\n",
    "    title='Biomass x Min Gravity',\n",
    "    sharex=False\n",
    ")\n",
    "ax1.set_xlabel('Min Gravity', fontsize=12)\n",
    "ax2 = graph_df.plot.scatter(\n",
    "    x='max',\n",
    "    y='Biomass',\n",
    "    c=graph_df.groupby('project_name').ngroup(),\n",
    "    colormap='viridis',\n",
    "    title='Biomass x Max Gravity',\n",
    "    sharex=False\n",
    ")\n",
    "ax2.set_xlabel('Max Gravity', fontsize=12)\n",
    "ax3 = graph_df.plot.scatter(\n",
    "    x='mean',\n",
    "    y='Biomass',\n",
    "    c=graph_df.groupby('project_name').ngroup(),\n",
    "    colormap='magma',\n",
    "    title='Biomass x Mean Gravity',\n",
    "    sharex=False\n",
    ")\n",
    "ax3.set_xlabel('Mean Gravity', fontsize=12)\n",
    "ax4 = graph_df.plot.scatter(\n",
    "    x='median',\n",
    "    y='Biomass',\n",
    "    c=graph_df.groupby('project_name').ngroup(),\n",
    "    colormap='magma',\n",
    "    title='Biomass x Median Gravity',\n",
    "    sharex=False\n",
    ")\n",
    "ax4.set_xlabel('Median Gravity', fontsize=12)\n",
    "\n",
    "plt.show()"
   ]
  },
  {
   "cell_type": "markdown",
   "metadata": {},
   "source": [
    "## View the imagery"
   ]
  },
  {
   "cell_type": "code",
   "execution_count": null,
   "metadata": {},
   "outputs": [],
   "source": [
    "# titiler urls can be parsed from tessellata responses\n",
    "titiler_url = f\"{titiler_endpoint}/stac/tiles/{{z}}/{{x}}/{{y}}.png?url=https://canada-spot-ortho.s3.amazonaws.com/canada_spot_orthoimages/canada_spot5_orthoimages/S5_2007/S5_13417_6725_20070828/S5_13417_6725_20070828.json&assets=B1\"\n",
    "\n",
    "tile_layer = TileLayer(url=titiler_url)\n",
    "\n",
    "m = Map(center=(67.48066409999987, -134.61833990000002), zoom=8)\n",
    "m.add_layer(tile_layer);\n",
    "\n",
    "display(m)"
   ]
  }
 ],
 "metadata": {
  "kernelspec": {
   "display_name": "Python 3",
   "language": "python",
   "name": "python3"
  },
  "language_info": {
   "codemirror_mode": {
    "name": "ipython",
    "version": 3
   },
   "file_extension": ".py",
   "mimetype": "text/x-python",
   "name": "python",
   "nbconvert_exporter": "python",
   "pygments_lexer": "ipython3",
   "version": "3.7.3"
  }
 },
 "nbformat": 4,
 "nbformat_minor": 4
}
